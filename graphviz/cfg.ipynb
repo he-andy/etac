{
 "cells": [
  {
   "cell_type": "code",
   "execution_count": 1,
   "id": "278bd17d",
   "metadata": {},
   "outputs": [],
   "source": [
    "from graphviz import Source"
   ]
  },
  {
   "cell_type": "code",
   "execution_count": 2,
   "id": "aca3dc72",
   "metadata": {},
   "outputs": [
    {
     "data": {
      "text/plain": [
       "'acc.dot.pdf'"
      ]
     },
     "execution_count": 2,
     "metadata": {},
     "output_type": "execute_result"
    }
   ],
   "source": [
    "path = 'acc.dot'\n",
    "source = Source.from_file(path)\n",
    "source.view()"
   ]
  },
  {
   "cell_type": "code",
   "execution_count": 6,
   "id": "400912b2",
   "metadata": {},
   "outputs": [
    {
     "data": {
      "text/plain": [
       "'simple.dot.pdf'"
      ]
     },
     "execution_count": 6,
     "metadata": {},
     "output_type": "execute_result"
    }
   ],
   "source": [
    "path = 'simple.dot'\n",
    "source = Source.from_file(path)\n",
    "source.view()"
   ]
  },
  {
   "cell_type": "code",
   "execution_count": 7,
   "id": "ada8472d",
   "metadata": {},
   "outputs": [
    {
     "data": {
      "text/plain": [
       "'simple2.dot.pdf'"
      ]
     },
     "execution_count": 7,
     "metadata": {},
     "output_type": "execute_result"
    }
   ],
   "source": [
    "path = 'simple2.dot'\n",
    "source = Source.from_file(path)\n",
    "source.view()"
   ]
  },
  {
   "cell_type": "code",
   "execution_count": null,
   "id": "97d2d8b3",
   "metadata": {},
   "outputs": [],
   "source": []
  }
 ],
 "metadata": {
  "kernelspec": {
   "display_name": "Python 3 (ipykernel)",
   "language": "python",
   "name": "python3"
  },
  "language_info": {
   "codemirror_mode": {
    "name": "ipython",
    "version": 3
   },
   "file_extension": ".py",
   "mimetype": "text/x-python",
   "name": "python",
   "nbconvert_exporter": "python",
   "pygments_lexer": "ipython3",
   "version": "3.9.6"
  }
 },
 "nbformat": 4,
 "nbformat_minor": 5
}
